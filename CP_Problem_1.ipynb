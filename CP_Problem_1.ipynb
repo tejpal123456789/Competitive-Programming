{
  "nbformat": 4,
  "nbformat_minor": 0,
  "metadata": {
    "colab": {
      "name": "CP Problem 1.ipynb",
      "provenance": [],
      "authorship_tag": "ABX9TyPi/+EFEm9nTQ0lhwsgj12l",
      "include_colab_link": true
    },
    "kernelspec": {
      "name": "python3",
      "display_name": "Python 3"
    }
  },
  "cells": [
    {
      "cell_type": "markdown",
      "metadata": {
        "id": "view-in-github",
        "colab_type": "text"
      },
      "source": [
        "<a href=\"https://colab.research.google.com/github/tejpal123456789/Competitive-Programming/blob/main/CP_Problem_1.ipynb\" target=\"_parent\"><img src=\"https://colab.research.google.com/assets/colab-badge.svg\" alt=\"Open In Colab\"/></a>"
      ]
    },
    {
      "cell_type": "markdown",
      "metadata": {
        "id": "KFURMLxZ_XHz"
      },
      "source": [
        "Bubble sort algorithm"
      ]
    },
    {
      "cell_type": "markdown",
      "metadata": {
        "id": "fNe2cb_T_b9c"
      },
      "source": [
        "We will have a list of number and then we have to arrange them in ascending order"
      ]
    },
    {
      "cell_type": "markdown",
      "metadata": {
        "id": "wP7I8WlLHSp4"
      },
      "source": [
        "Our Task is to find the count of numbers which are not in the ascending order\r\n",
        "like \r\n",
        "### \r\n",
        "[1,2,6,3,1,4]\r\n",
        "has 4 that type of numbers"
      ]
    },
    {
      "cell_type": "code",
      "metadata": {
        "colab": {
          "base_uri": "https://localhost:8080/"
        },
        "id": "5KTOC-kA_PkT",
        "outputId": "1217b3f0-4396-45a2-e961-bf708a73c512"
      },
      "source": [
        "\r\n",
        "\r\n",
        "def bubble_sort(input):\r\n",
        "    x=input\r\n",
        "    k=0\r\n",
        "    for i in range(len(x)-1):\r\n",
        "       if x[i+1]<=x[i]:\r\n",
        "           k=k+2\r\n",
        "   \r\n",
        "    for i in range(len(x)-1):\r\n",
        "    \r\n",
        "      for i in range(len(x)-1):\r\n",
        "        if x[i+1]<=x[i]:\r\n",
        "            \r\n",
        "            a=x[i+1]\r\n",
        "            b=x[i]\r\n",
        "            x[i]=a\r\n",
        "            x[i+1]=b\r\n",
        "            \r\n",
        "        else :\r\n",
        "          pass    \r\n",
        "    return x,k\r\n",
        "data=bubble_sort([1,2,6,3,1,4])   \r\n",
        "data"
      ],
      "execution_count": 30,
      "outputs": [
        {
          "output_type": "execute_result",
          "data": {
            "text/plain": [
              "([1, 1, 2, 3, 4, 6], 4)"
            ]
          },
          "metadata": {
            "tags": []
          },
          "execution_count": 30
        }
      ]
    }
  ]
}